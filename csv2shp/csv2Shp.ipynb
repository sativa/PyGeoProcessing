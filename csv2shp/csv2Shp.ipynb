{
 "metadata": {
  "name": "",
  "signature": "sha256:c8af11a62b5f41ec5f0d187c086a5c999fcb4877820d40288d3663b2d3fdb51c"
 },
 "nbformat": 3,
 "nbformat_minor": 0,
 "worksheets": [
  {
   "cells": [
    {
     "cell_type": "code",
     "collapsed": false,
     "input": [
      "# -----------------------------------------------------------------------------\n",
      "# Program: csv2shp\n",
      "# Author: Baburao Kamble\n",
      "# Date: 07/20/2014\n",
      "# Purpose:GDAL Python Scrip for csv to shp "
     ],
     "language": "python",
     "metadata": {},
     "outputs": [],
     "prompt_number": 1
    },
    {
     "cell_type": "code",
     "collapsed": false,
     "input": [
      "import csv,sys, os\n",
      "from lxml import etree as ET\n",
      "import osgeo\n",
      "from osgeo import gdal, ogr\n"
     ],
     "language": "python",
     "metadata": {},
     "outputs": [],
     "prompt_number": 1
    },
    {
     "cell_type": "code",
     "collapsed": false,
     "input": [
      "print \"Converting csv to ESRI shp \"\n",
      "os.chdir(os.getcwd())\n",
      "filein=(\"Points.csv\")\n",
      "Param=filein.split(\".\")[0]\n",
      "outdir=( 'output/{0}'.format(Param))\n",
      "if not os.path.exists(outdir):    \n",
      "    os.makedirs(outdir)\n",
      "    OGRVRTDataSource = ET.Element(\"OGRVRTDataSource\")\n",
      "    OGRVRTLayer = ET.SubElement(OGRVRTDataSource, \"OGRVRTLayer\")\n",
      "    OGRVRTLayer.set(\"name\", Param)\n",
      "    SrcDataSource = ET.SubElement(OGRVRTLayer, \"SrcDataSource\")\n",
      "    SrcDataSource.text = filein\n",
      "    GeometryType = ET.SubElement(OGRVRTLayer, \"GeometryType\")\n",
      "    GeometryType.text = \"wkbPoint\"\n",
      "    LayerSRS = ET.SubElement(OGRVRTLayer, \"LayerSRS\")\n",
      "    LayerSRS.text = \"WGS84\"    \n",
      "    GeometryField = ET.SubElement(OGRVRTLayer, \"GeometryField\")\n",
      "    GeometryField.set(\"encoding\", \"PointFromColumns\" )\n",
      "    GeometryField.set(\"x\", \"Lon\")\n",
      "    GeometryField.set(\"y\", \"Lat\")\n",
      "    GeometryField.set(\"z\", \"Elev__feet\")\n",
      "    tree = ET.ElementTree(OGRVRTDataSource)\n",
      "    tree.write((\"weather.vrt\"), pretty_print=True)\n",
      "\n",
      "print (\"_______________________________________________________\")\n",
      "#print (\"Writing ESRI Shapefile\")\n",
      "shapefileout=('output/{0}.shp'.format(Param))\n",
      "#shapefileout=(' output/ ')\n",
      "drivershp=('\"ESRI Shapefile\"')\n",
      "os.system(\"ogr2ogr -f %(A)s %(B)s weather.vrt \" %  {'A': drivershp, 'B': shapefileout})\n",
      "print (\"End\")"
     ],
     "language": "python",
     "metadata": {},
     "outputs": [
      {
       "output_type": "stream",
       "stream": "stdout",
       "text": [
        " Converting csv to ESRI shp \n",
        "_______________________________________________________\n",
        "End"
       ]
      },
      {
       "output_type": "stream",
       "stream": "stdout",
       "text": [
        "\n"
       ]
      }
     ],
     "prompt_number": 6
    }
   ],
   "metadata": {}
  }
 ]
}